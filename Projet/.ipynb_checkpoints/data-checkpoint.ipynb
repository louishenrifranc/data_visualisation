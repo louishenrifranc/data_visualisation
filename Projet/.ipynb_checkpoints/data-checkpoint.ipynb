{
 "cells": [
  {
   "cell_type": "code",
   "execution_count": 46,
   "metadata": {
    "collapsed": false,
    "deletable": true,
    "editable": true
   },
   "outputs": [
    {
     "name": "stdout",
     "output_type": "stream",
     "text": [
      "   iid   id  gender  idg  condtn  wave  round  position  positin1  order  \\\n",
      "0    1  1.0       0    1       1     1     10         7       NaN      4   \n",
      "1    1  1.0       0    1       1     1     10         7       NaN      3   \n",
      "2    1  1.0       0    1       1     1     10         7       NaN     10   \n",
      "3    1  1.0       0    1       1     1     10         7       NaN      5   \n",
      "4    1  1.0       0    1       1     1     10         7       NaN      7   \n",
      "\n",
      "    ...    attr3_3  sinc3_3  intel3_3  fun3_3  amb3_3  attr5_3  sinc5_3  \\\n",
      "0   ...        5.0      7.0       7.0     7.0     7.0      NaN      NaN   \n",
      "1   ...        5.0      7.0       7.0     7.0     7.0      NaN      NaN   \n",
      "2   ...        5.0      7.0       7.0     7.0     7.0      NaN      NaN   \n",
      "3   ...        5.0      7.0       7.0     7.0     7.0      NaN      NaN   \n",
      "4   ...        5.0      7.0       7.0     7.0     7.0      NaN      NaN   \n",
      "\n",
      "   intel5_3  fun5_3  amb5_3  \n",
      "0       NaN     NaN     NaN  \n",
      "1       NaN     NaN     NaN  \n",
      "2       NaN     NaN     NaN  \n",
      "3       NaN     NaN     NaN  \n",
      "4       NaN     NaN     NaN  \n",
      "\n",
      "[5 rows x 195 columns]\n"
     ]
    }
   ],
   "source": [
    "%matplotlib inline\n",
    "import matplotlib.pyplot as plt\n",
    "import numpy as np\n",
    "import pandas as pd\n",
    "import csv\n",
    "import math\n",
    "import os\n",
    "\n",
    "folder = \"data\"\n",
    "filename = \"data.csv\"\n",
    "path = os.path.join(folder, filename)\n",
    "\n",
    "data = pd.read_csv(path, encoding=\"latin1\")\n",
    "print(data.head())\n",
    "\n"
   ]
  },
  {
   "cell_type": "code",
   "execution_count": 5,
   "metadata": {
    "collapsed": false,
    "deletable": true,
    "editable": true
   },
   "outputs": [],
   "source": [
    "# Question 1\n",
    "file_corr_match = os.path.join(folder, \"corr_vs_matches.csv\")\n",
    "\n",
    "file_pairwise_corr_match = lambda att1, att2: os.path.join(folder, \"corr_{}_{}_matches.csv\".format(att1, att2))"
   ]
  },
  {
   "cell_type": "code",
   "execution_count": 6,
   "metadata": {
    "collapsed": true,
    "deletable": true,
    "editable": true
   },
   "outputs": [],
   "source": [
    "# Utils\n",
    "def isnan(values):\n",
    "    return np.isnan(values)\n",
    "\n",
    "def save_tensor(tensor, filename):\n",
    "    with open('', 'wb') as f:\n",
    "    np.savetxt(filename, tensor, delimiter=\",\")"
   ]
  },
  {
   "cell_type": "code",
   "execution_count": 73,
   "metadata": {
    "collapsed": false,
    "deletable": true,
    "editable": true
   },
   "outputs": [
    {
     "name": "stdout",
     "output_type": "stream",
     "text": [
      "[0, 2, 0, 2, 12, 26, 38, 50, 84, 118, 128, 158, 132, 174, 140, 136, 96, 50, 4, 0]\n",
      "[0, 2, 2, 18, 68, 161, 280, 367, 562, 692, 826, 1067, 820, 1065, 804, 736, 470, 222, 56, 2]\n"
     ]
    },
    {
     "data": {
      "text/plain": [
       "[<matplotlib.lines.Line2D at 0x11435ec50>]"
      ]
     },
     "execution_count": 73,
     "metadata": {},
     "output_type": "execute_result"
    },
    {
     "data": {
      "image/png": "[encoded data removed]",
      "text/plain": [
       "<matplotlib.figure.Figure at 0x113a90cd0>"
      ]
     },
     "metadata": {},
     "output_type": "display_data"
    }
   ],
   "source": [
    "correlation_versus_matches = []\n",
    "bins = 20\n",
    "class_size = 2.0/bins\n",
    "nb_match_per_class = [0]*bins\n",
    "total_meeting_per_class = [0]*bins\n",
    "\n",
    "for index, row in data.iterrows():\n",
    "    if not isnan(row.int_corr):\n",
    "        if row.match != 0:\n",
    "            nb_match_per_class[int((row.int_corr+1)/class_size)] += 1\n",
    "        total_meeting_per_class[int((row.int_corr+1)/class_size)] += 1\n",
    "        \n",
    "for index, match_per_class in enumerate(nb_match_per_class):\n",
    "    \n",
    "    if(total_meeting_per_class[index])==0:\n",
    "        correlation_versus_matches.append(0)\n",
    "    else:\n",
    "        correlation_versus_matches.append(match_per_class/total_meeting_per_class[index])\n",
    "# removing an outlier\n",
    "correlation_versus_matches[1] = 0\n",
    "print(nb_match_per_class)\n",
    "print(total_meeting_per_class)\n",
    "\n",
    "#save_tensor(correlation_versus_matches, file_corr_match)\n",
    "#plt.hist(correlation_versus_matches,bins=bins,range=(-1.0,1.0))\n",
    "plt.plot(correlation_versus_matches)"
   ]
  },
  {
   "cell_type": "code",
   "execution_count": 86,
   "metadata": {
    "collapsed": false,
    "deletable": true,
    "editable": true
   },
   "outputs": [
    {
     "name": "stdout",
     "output_type": "stream",
     "text": [
      "{1.0: 21, 2.0: 178, 3.0: 28, 4.0: 43, 6.0: 36}\n",
      "{1.0: {1.0: 19.047619047619047, 2.0: 52.38095238095238, 3.0: 9.523809523809524, 4.0: 9.523809523809524, 6.0: 9.523809523809524}, 2.0: {1.0: 5.617977528089888, 2.0: 66.29213483146067, 3.0: 5.056179775280899, 4.0: 14.044943820224718, 6.0: 8.98876404494382}, 3.0: {1.0: 7.142857142857143, 2.0: 53.57142857142857, 3.0: 7.142857142857143, 4.0: 14.285714285714286, 6.0: 17.857142857142858}, 4.0: {1.0: 4.651162790697675, 2.0: 58.13953488372093, 3.0: 4.651162790697675, 4.0: 18.6046511627907, 6.0: 13.953488372093023}, 6.0: {1.0: 5.555555555555555, 2.0: 58.333333333333336, 3.0: 13.88888888888889, 4.0: 16.666666666666668, 6.0: 5.555555555555555}}\n"
     ]
    }
   ],
   "source": [
    "# Good format seems to be (attr_0, attr_1, value) -> http://bl.ocks.org/tjdecke/5558084\n",
    "\n",
    "def compute_correlation_matrix(n_attr1, n_attr2):\n",
    "    symmetric = (n_attr1 == n_attr2)\n",
    "    total_attr1 = dict()\n",
    "    corr_m = dict()\n",
    "    \n",
    "    for index, row in data.iterrows():\n",
    "        if isnan(row.pid):\n",
    "            break\n",
    "        if row.match != 0: \n",
    "            person_1 = row\n",
    "            person_2 = data.query(\"iid == \" + str(row.pid)).iloc[0]\n",
    "            if not (isnan(person_1[n_attr1]) or isnan(person_2[n_attr2])):\n",
    "                def append_to_dic(att_1, att_2):               \n",
    "                    person_1_attr_1 = person_1[att_1]                \n",
    "                    person_2_attr_2 = person_2[att_2]\n",
    "\n",
    "                    if person_1_attr_1 not in corr_m:\n",
    "                        corr_m[person_1_attr_1] = {}\n",
    "                    try:\n",
    "                        corr_m[person_1_attr_1][person_2_attr_2] += 1\n",
    "                    except:\n",
    "                        corr_m[person_1_attr_1][person_2_attr_2] = 1\n",
    "                    \n",
    "                    if person_1_attr_1 not in total_attr1:\n",
    "                        total_attr1[person_1_attr_1] = 0\n",
    "                    total_attr1[person_1_attr_1] += 1\n",
    "\n",
    "                append_to_dic(n_attr1, n_attr2)\n",
    "        #    append_to_dic(n_attr2, n_attr1)\n",
    "    for idx, att1 in enumerate(corr_m.keys()):\n",
    "        for att2 in corr_m[att1]:\n",
    "            corr_m[att1][att2] = corr_m[att1][att2]*100/total_attr1[att1]\n",
    "    print(total_attr1)\n",
    "    print(corr_m)\n",
    "    save_tensor([(att1, att2, val) for att1 in corr_m.keys() for att2, val in corr_m[att1].items()], \n",
    "                file_pairwise_corr_match(n_attr1, n_attr2))\n",
    "                \n",
    "compute_correlation_matrix(\"race\", \"race\")\n",
    "#compute_correlation_matrix(\"race\", \"age\")\n",
    "#compute_correlation_matrix(\"field_cd\", \"field_cd\")\n",
    "#compute_correlation_matrix(\"age\", \"field_cd\")\n",
    "\n"
   ]
  },
  {
   "cell_type": "code",
   "execution_count": 9,
   "metadata": {
    "collapsed": false,
    "deletable": true,
    "editable": true
   },
   "outputs": [
    {
     "ename": "Error",
     "evalue": "sequence expected",
     "output_type": "error",
     "traceback": [
      "\u001b[0;31m---------------------------------------------------------------------------\u001b[0m",
      "\u001b[0;31mError\u001b[0m                                     Traceback (most recent call last)",
      "\u001b[0;32m<ipython-input-9-48c749dbcb01>\u001b[0m in \u001b[0;36m<module>\u001b[0;34m()\u001b[0m\n\u001b[1;32m     39\u001b[0m     \u001b[0;32mif\u001b[0m \u001b[0mrow\u001b[0m\u001b[0;34m.\u001b[0m\u001b[0mwave\u001b[0m \u001b[0;32mnot\u001b[0m \u001b[0;32min\u001b[0m \u001b[0mrange\u001b[0m\u001b[0;34m(\u001b[0m\u001b[0;36m6\u001b[0m\u001b[0;34m,\u001b[0m \u001b[0;36m10\u001b[0m\u001b[0;34m)\u001b[0m \u001b[0;32mand\u001b[0m \u001b[0mrow\u001b[0m\u001b[0;34m.\u001b[0m\u001b[0mgender\u001b[0m \u001b[0;34m==\u001b[0m \u001b[0;36m1\u001b[0m\u001b[0;34m:\u001b[0m\u001b[0;34m\u001b[0m\u001b[0m\n\u001b[1;32m     40\u001b[0m        \u001b[0mmale_expectation\u001b[0m\u001b[0;34m.\u001b[0m\u001b[0madd_person\u001b[0m\u001b[0;34m(\u001b[0m\u001b[0mrow\u001b[0m\u001b[0;34m,\u001b[0m \u001b[0;36m1\u001b[0m\u001b[0;34m,\u001b[0m \u001b[0;36m1\u001b[0m\u001b[0;34m)\u001b[0m\u001b[0;34m\u001b[0m\u001b[0m\n\u001b[0;32m---> 41\u001b[0;31m \u001b[0mmale_expectation\u001b[0m\u001b[0;34m.\u001b[0m\u001b[0msave\u001b[0m\u001b[0;34m(\u001b[0m\u001b[0;34m)\u001b[0m\u001b[0;34m\u001b[0m\u001b[0m\n\u001b[0m\u001b[1;32m     42\u001b[0m \u001b[0;34m\u001b[0m\u001b[0m\n\u001b[1;32m     43\u001b[0m \u001b[0mfemale_expectation\u001b[0m \u001b[0;34m=\u001b[0m \u001b[0mRadar\u001b[0m\u001b[0;34m(\u001b[0m\u001b[0;34m\"female_expectation\"\u001b[0m\u001b[0;34m)\u001b[0m\u001b[0;34m\u001b[0m\u001b[0m\n",
      "\u001b[0;32m<ipython-input-9-48c749dbcb01>\u001b[0m in \u001b[0;36msave\u001b[0;34m(self)\u001b[0m\n\u001b[1;32m     32\u001b[0m         \u001b[0;32mwith\u001b[0m \u001b[0mopen\u001b[0m\u001b[0;34m(\u001b[0m\u001b[0;34m\"{}.csv\"\u001b[0m\u001b[0;34m.\u001b[0m\u001b[0mformat\u001b[0m\u001b[0;34m(\u001b[0m\u001b[0mself\u001b[0m\u001b[0;34m.\u001b[0m\u001b[0m__name__\u001b[0m\u001b[0;34m)\u001b[0m\u001b[0;34m,\u001b[0m\u001b[0;34m'w'\u001b[0m\u001b[0;34m)\u001b[0m \u001b[0;32mas\u001b[0m \u001b[0mf\u001b[0m\u001b[0;34m:\u001b[0m\u001b[0;34m\u001b[0m\u001b[0m\n\u001b[1;32m     33\u001b[0m             \u001b[0mw\u001b[0m \u001b[0;34m=\u001b[0m \u001b[0mcsv\u001b[0m\u001b[0;34m.\u001b[0m\u001b[0mwriter\u001b[0m\u001b[0;34m(\u001b[0m\u001b[0mf\u001b[0m\u001b[0;34m)\u001b[0m\u001b[0;34m\u001b[0m\u001b[0m\n\u001b[0;32m---> 34\u001b[0;31m             \u001b[0mw\u001b[0m\u001b[0;34m.\u001b[0m\u001b[0mwriterow\u001b[0m\u001b[0;34m(\u001b[0m\u001b[0;34m[\u001b[0m\u001b[0mk\u001b[0m\u001b[0;34m,\u001b[0m \u001b[0mv\u001b[0m\u001b[0;34m]\u001b[0m \u001b[0;32mfor\u001b[0m \u001b[0mk\u001b[0m\u001b[0;34m,\u001b[0m \u001b[0mv\u001b[0m \u001b[0;32min\u001b[0m \u001b[0mself\u001b[0m\u001b[0;34m.\u001b[0m\u001b[0mdic\u001b[0m\u001b[0;34m.\u001b[0m\u001b[0mitems\u001b[0m\u001b[0;34m(\u001b[0m\u001b[0;34m)\u001b[0m\u001b[0;34m)\u001b[0m\u001b[0;34m\u001b[0m\u001b[0m\n\u001b[0m\u001b[1;32m     35\u001b[0m \u001b[0;34m\u001b[0m\u001b[0m\n\u001b[1;32m     36\u001b[0m \u001b[0;34m\u001b[0m\u001b[0m\n",
      "\u001b[0;31mError\u001b[0m: sequence expected"
     ]
    }
   ],
   "source": [
    "# Question 3\n",
    "# Good format seems to be (attribute, mean_score) -> http://bl.ocks.org/nbremer/6506614\n",
    "\n",
    "# Attentes des hommes\n",
    "class Radar:\n",
    "    def __init__(self, name):\n",
    "        self.__name__ = name\n",
    "        self.dic = {\"attractive\" : 0, \"sincerity\" : 0,\n",
    "                    \"intelligence\" : 0, \"fun\" : 0,\n",
    "                    \"ambitious\" : 0, \"same_interests\" : 0}\n",
    "        self.nb_persons  = 0\n",
    "        \n",
    "    def add_person(self, person, exp, time):\n",
    "        saved_dic = self.dic\n",
    "        try:\n",
    "            self.dic[\"attractive\"] += int(person[\"attr{}_{}\".format(exp, time)])\n",
    "            self.dic[\"sincerity\"] += int(person[\"sinc{}_{}\".format(exp, time)])\n",
    "            self.dic[\"intelligence\"] += int(person[\"intel{}_{}\".format(exp, time)])\n",
    "            self.dic[\"fun\"] += int(person[\"fun{}_{}\".format(exp, time)])\n",
    "            self.dic[\"ambitious\"] += int(person[\"amb{}_{}\".format(exp, time)])\n",
    "            self.dic[\"same_interests\"] += int(person[\"shar{}_{}\".format(exp, time)])\n",
    "            self.nb_persons  += 1 \n",
    "        except:    \n",
    "            self.dic = saved_dic\n",
    "    \n",
    "    def compute_mean(self):\n",
    "        self.dic = {k: v / self.nb_persons for k, v in self.dic.items()}\n",
    "        \n",
    "    def save(self):\n",
    "        self.compute_mean()\n",
    "        \n",
    "        with open(\"{}.csv\".format(self.__name__),'w') as f:\n",
    "            w = csv.writer(f)\n",
    "            w.writerow([k, v] for k, v in self.dic.items())\n",
    "\n",
    "\n",
    "male_expectation = Radar(\"male_expectation\")\n",
    "for index, row in data.iterrows():\n",
    "    if row.wave not in range(6, 10) and row.gender == 1:\n",
    "       male_expectation.add_person(row, 1, 1)\n",
    "male_expectation.save()\n",
    "\n",
    "female_expectation = Radar(\"female_expectation\")\n",
    "for index, row in data.iterrows():\n",
    "    if row.wave not in range(6, 10) and row.gender == 0:\n",
    "       female_expectation.add_person(row, 1, 1)\n",
    "female_expectation.save()\n",
    "\n",
    "male_experience = Radar(\"male_experience\")\n",
    "for index, row in data.iterrows():\n",
    "    if row.wave not in range(6, 10) and row.gender == 0 and row.match == 1:\n",
    "       male_experience.add_person(row, 1, 3)\n",
    "male_experience.save() \n",
    "\n",
    "female_experience = Radar(\"female_experience\")\n",
    "for index, row in data.iterrows():\n",
    "    if row.wave not in range(6, 10) and row.gender == 1 and row.match == 1:\n",
    "       female_experience.add_person(row, 1, 3)\n",
    "female_experience.save() \n",
    "\n",
    "male_own_opninon = Radar(\"male_own_opninon\")\n",
    "for index, row in data.iterrows():\n",
    "    if row.wave not in range(6, 10) and row.gender == 0:\n",
    "       male_own_opninon.add_person(row, 4, 3)\n",
    "male_own_opninon.save() \n",
    "\n",
    "female_own_opninon = Radar(\"female_own_opninon\")\n",
    "for index, row in data.iterrows():\n",
    "    if row.wave not in range(6, 10) and row.gender == 1:\n",
    "       female_own_opninon.add_person(row, 4, 3)\n",
    "female_own_opninon.save() "
   ]
  },
  {
   "cell_type": "code",
   "execution_count": 3,
   "metadata": {
    "collapsed": false,
    "deletable": true,
    "editable": true
   },
   "outputs": [
    {
     "data": {
      "text/plain": [
       "'/Users/Raphael/Documents/Poly/Maitrise_S3/Data_Viz/Projet'"
      ]
     },
     "execution_count": 3,
     "metadata": {},
     "output_type": "execute_result"
    }
   ],
   "source": [
    "# Question 4\n",
    "# TODO... faut qu'on se décide\n",
    "os.path.realpath('.')"
   ]
  },
  {
   "cell_type": "code",
   "execution_count": null,
   "metadata": {
    "collapsed": true,
    "deletable": true,
    "editable": true
   },
   "outputs": [],
   "source": []
  }
 ],
 "metadata": {
  "kernelspec": {
   "display_name": "Python 3",
   "language": "python",
   "name": "python3"
  },
  "language_info": {
   "codemirror_mode": {
    "name": "ipython",
    "version": 3
   },
   "file_extension": ".py",
   "mimetype": "text/x-python",
   "name": "python",
   "nbconvert_exporter": "python",
   "pygments_lexer": "ipython3",
   "version": "3.5.0"
  }
 },
 "nbformat": 4,
 "nbformat_minor": 2
}
