{
 "cells": [
  {
   "cell_type": "code",
   "execution_count": 25,
   "metadata": {
    "collapsed": false,
    "deletable": true,
    "editable": true
   },
   "outputs": [
    {
     "name": "stdout",
     "output_type": "stream",
     "text": [
      "   iid   id  gender  idg  condtn  wave  round  position  positin1  order  \\\n",
      "0    1  1.0       0    1       1     1     10         7       NaN      4   \n",
      "1    1  1.0       0    1       1     1     10         7       NaN      3   \n",
      "2    1  1.0       0    1       1     1     10         7       NaN     10   \n",
      "3    1  1.0       0    1       1     1     10         7       NaN      5   \n",
      "4    1  1.0       0    1       1     1     10         7       NaN      7   \n",
      "\n",
      "    ...    attr3_3  sinc3_3  intel3_3  fun3_3  amb3_3  attr5_3  sinc5_3  \\\n",
      "0   ...        5.0      7.0       7.0     7.0     7.0      NaN      NaN   \n",
      "1   ...        5.0      7.0       7.0     7.0     7.0      NaN      NaN   \n",
      "2   ...        5.0      7.0       7.0     7.0     7.0      NaN      NaN   \n",
      "3   ...        5.0      7.0       7.0     7.0     7.0      NaN      NaN   \n",
      "4   ...        5.0      7.0       7.0     7.0     7.0      NaN      NaN   \n",
      "\n",
      "   intel5_3  fun5_3  amb5_3  \n",
      "0       NaN     NaN     NaN  \n",
      "1       NaN     NaN     NaN  \n",
      "2       NaN     NaN     NaN  \n",
      "3       NaN     NaN     NaN  \n",
      "4       NaN     NaN     NaN  \n",
      "\n",
      "[5 rows x 195 columns]\n"
     ]
    }
   ],
   "source": [
    "%matplotlib inline\n",
    "import matplotlib.pyplot as plt\n",
    "import numpy as np\n",
    "import pandas as pd\n",
    "import csv\n",
    "import math\n",
    "import os\n",
    "\n",
    "folder = \"data\"\n",
    "filename = \"data.csv\"\n",
    "path = os.path.join(folder, filename)\n",
    "\n",
    "data = pd.read_csv(path, encoding=\"latin1\")\n",
    "print(data.head())\n",
    "\n"
   ]
  },
  {
   "cell_type": "code",
   "execution_count": 26,
   "metadata": {
    "collapsed": false,
    "deletable": true,
    "editable": true
   },
   "outputs": [],
   "source": [
    "# Question 1\n",
    "file_corr_match = os.path.join(folder, \"corr_vs_matches.csv\")\n",
    "\n",
    "file_pairwise_corr_match = lambda att1, att2: os.path.join(folder, \"corr_{}_{}_matches.csv\".format(att1, att2))"
   ]
  },
  {
   "cell_type": "code",
   "execution_count": 44,
   "metadata": {
    "collapsed": true,
    "deletable": true,
    "editable": true
   },
   "outputs": [],
   "source": [
    "# Utils\n",
    "def isnan(values):\n",
    "    return np.isnan(values)\n",
    "\n",
    "def save_tensor(tensor, filename):\n",
    "    np.savetxt(filename, tensor, delimiter=\",\",fmt='%.4e',)"
   ]
  },
  {
   "cell_type": "code",
   "execution_count": 45,
   "metadata": {
    "collapsed": false,
    "deletable": true,
    "editable": true,
    "scrolled": true
   },
   "outputs": [
    {
     "name": "stdout",
     "output_type": "stream",
     "text": [
      "[0, 2.0, 0, 2.0, 12.0, 26.0, 38.0, 50.0, 84.0, 118.0, 128.0, 158.0, 132.0, 174.0, 140.0, 136.0, 96.0, 50.0, 4.0, 0]\n",
      "[0, 2.0, 2.0, 18.0, 68.0, 161.0, 280.0, 367.0, 562.0, 692.0, 826.0, 1067.0, 820.0, 1065.0, 804.0, 736.0, 470.0, 222.0, 56.0, 2.0]\n",
      "[[-1.0, 0], [-0.9, 0], [-0.8, 0.0], [-0.7, 0.1111111111111111], [-0.6, 0.17647058823529413], [-0.5, 0.16149068322981366], [-0.4, 0.1357142857142857], [-0.3, 0.1362397820163488], [-0.2, 0.1494661921708185], [-0.1, 0.17052023121387283], [0.0, 0.1549636803874092], [0.1, 0.14807872539831302], [0.2, 0.16097560975609757], [0.3, 0.16338028169014085], [0.4, 0.17412935323383086], [0.5, 0.18478260869565216], [0.6, 0.20425531914893616], [0.7, 0.22522522522522523], [0.8, 0.07142857142857142], [0.9, 0.0]]\n"
     ]
    },
    {
     "data": {
      "text/plain": [
       "[<matplotlib.lines.Line2D at 0x1118e9590>,\n",
       " <matplotlib.lines.Line2D at 0x1118e9790>]"
      ]
     },
     "execution_count": 45,
     "metadata": {},
     "output_type": "execute_result"
    },
    {
     "data": {
      "image/png": "[encoded data removed]",
      "text/plain": [
       "<matplotlib.figure.Figure at 0x10e210650>"
      ]
     },
     "metadata": {},
     "output_type": "display_data"
    }
   ],
   "source": [
    "correlation_versus_matches = []\n",
    "bins = 20\n",
    "class_size = 2.0/bins\n",
    "nb_match_per_class = [0]*bins\n",
    "total_meeting_per_class = [0]*bins\n",
    "\n",
    "for index, row in data.iterrows():\n",
    "    if not isnan(row.int_corr):\n",
    "        if row.match != 0:\n",
    "            nb_match_per_class[int((row.int_corr+1)/class_size)] += 1.0\n",
    "        total_meeting_per_class[int((row.int_corr+1)/class_size)] += 1.0\n",
    "\n",
    "for index, match_per_class in enumerate(nb_match_per_class):\n",
    "    if(total_meeting_per_class[index])==0:\n",
    "        correlation_versus_matches.append([float('%.1f'%(-1+index*0.1)),0])\n",
    "    else:\n",
    "        correlation_versus_matches.append([float('%.1f'%(-1+index*0.1)),match_per_class/total_meeting_per_class[index]])\n",
    "\n",
    "# removing an outlier\n",
    "correlation_versus_matches[1][1] = 0\n",
    "print(nb_match_per_class)\n",
    "print(total_meeting_per_class)\n",
    "print(correlation_versus_matches)\n",
    "\n",
    "save_tensor(correlation_versus_matches, file_corr_match)\n",
    "#plt.hist(correlation_versus_matches,bins=bins,range=(-1.0,1.0))\n",
    "plt.plot(correlation_versus_matches)"
   ]
  },
  {
   "cell_type": "code",
   "execution_count": 23,
   "metadata": {
    "collapsed": false,
    "deletable": true,
    "editable": true
   },
   "outputs": [
    {
     "name": "stdout",
     "output_type": "stream",
     "text": [
      "{1: {1: 59, 2: 16, 3: 30, 4: 54, 5: 89, 7: 6}, 2: {1: 77, 2: 32, 3: 39, 4: 151, 5: 238, 7: 20}, 3: {1: 24, 2: 4, 3: 14, 4: 21, 5: 28}, 4: {1: 17, 2: 10, 3: 6, 4: 105, 5: 144, 7: 7}, 5: {1: 36, 2: 6, 3: 16, 4: 54, 5: 79, 7: 2}, 6: {1: 14, 2: 6, 3: 12, 4: 12, 5: 35, 7: 2}, 7: {}}\n",
      "{1: {1: 23, 3: 20, 4: 14, 5: 13}, 2: {1: 18, 2: 25, 3: 43, 4: 13, 5: 8}, 3: {1: 45, 3: 42, 4: 47, 5: 10}, 4: {1: 23, 3: 100, 4: 34, 5: 16, 7: 28}, 5: {1: 22, 3: 18, 4: 44, 5: 26}, 6: {1: 14, 2: 66, 3: 83, 4: 66, 5: 11}, 7: {}}\n"
     ]
    }
   ],
   "source": [
    "# Good format seems to be (attr_0, attr_1, value) -> http://bl.ocks.org/tjdecke/5558084\n",
    "\n",
    "def group_ages(age):\n",
    "    res = 0\n",
    "    if age < 22:\n",
    "        res = 1\n",
    "    elif age < 24:\n",
    "        res = 2\n",
    "    elif age < 28:\n",
    "        res = 3\n",
    "    elif age < 32:\n",
    "        res = 4\n",
    "    elif age < 36:\n",
    "        res = 5\n",
    "    else:\n",
    "        res = 6\n",
    "    return res\n",
    "\n",
    "def group_fields(field):\n",
    "    res = 0\n",
    "    if field in [2,4,5,10,17]:\n",
    "        return 1\n",
    "    if field in [11,3]:\n",
    "        return 2\n",
    "    if field in [16,6,14,15,7]:\n",
    "        return 3\n",
    "    if field in [1]:\n",
    "        return 4\n",
    "    if field in [8,13]:\n",
    "        return 5\n",
    "    if field in [9]:\n",
    "        return 6\n",
    "    if field in [12,18]:\n",
    "        return 7\n",
    "    \n",
    "def group_races(race):\n",
    "    return race\n",
    "\n",
    "def compute_correlation_matrix(n_attr1, n_attr2):\n",
    "    \n",
    "    if n_attr1 == \"field_cd\":\n",
    "        group = group_fields\n",
    "    elif n_attr1 ==\"age\":\n",
    "        group = group_ages\n",
    "    else:\n",
    "        group = group_races\n",
    "    \n",
    "    symmetric = (n_attr1 == n_attr2)\n",
    "    total_occurence = dict()\n",
    "    corr_m = dict()\n",
    "    \n",
    "    for index, row in data.iterrows():\n",
    "        if isnan(row.pid):\n",
    "            break\n",
    "        #if row.match != 0: \n",
    "        person_1 = row\n",
    "        person_2 = data.query(\"iid == \" + str(row.pid)).iloc[0]\n",
    "        if not (isnan(person_1[n_attr1]) or isnan(person_2[n_attr2])):\n",
    "            def append_to_dic(att_1, att_2):               \n",
    "                person_1_attr_1 = group(person_1[att_1])                \n",
    "                person_2_attr_2 = group(person_2[att_2])\n",
    "\n",
    "                if person_1_attr_1 not in corr_m:\n",
    "                    corr_m[person_1_attr_1] = {}\n",
    "                if person_1_attr_1 not in total_occurence:\n",
    "                    total_occurence[person_1_attr_1] = {}\n",
    "                try:\n",
    "                    if row.match != 0:\n",
    "                        if person_1.gender == 0:\n",
    "                            corr_m[person_1_attr_1][person_2_attr_2] += 1\n",
    "                        else:\n",
    "                            corr_m[person_2_attr_2][person_1_attr_1] += 1\n",
    "                    if person_1.gender == 0:\n",
    "                        total_occurence[person_1_attr_1][person_2_attr_2] += 1\n",
    "                    else:\n",
    "                        total_occurence[person_2_attr_2][person_1_attr_1] += 1\n",
    "                except:\n",
    "                    if row.match != 0:\n",
    "                        if person_1.gender == 0:\n",
    "                            corr_m[person_1_attr_1][person_2_attr_2] = 1\n",
    "                        else:\n",
    "                            corr_m[person_2_attr_2][person_1_attr_1] = 1\n",
    "                    if person_1.gender == 0:\n",
    "                        total_occurence[person_1_attr_1][person_2_attr_2] = 1\n",
    "                    else:\n",
    "                        total_occurence[person_2_attr_2][person_1_attr_1] = 1\n",
    "                #if person_1_attr_1 not in total_attr1:\n",
    "                #    total_attr1[person_1_attr_1] = 0\n",
    "                #total_attr1[person_1_attr_1] += 1\n",
    "\n",
    "            append_to_dic(n_attr1, n_attr2)\n",
    "        #    append_to_dic(n_attr2, n_attr1)\n",
    "    for idx, att1 in enumerate(corr_m.keys()):\n",
    "        for att2 in corr_m[att1]:\n",
    "            corr_m[att1][att2] = corr_m[att1][att2]*100/total_occurence[att1][att2]\n",
    "    print(total_occurence)\n",
    "    print(corr_m)\n",
    "    save_tensor([(att1, att2, val) for att1 in corr_m.keys() for att2, val in corr_m[att1].items()], \n",
    "               file_pairwise_corr_match(n_attr1, n_attr2))\n",
    "                \n",
    "#compute_correlation_matrix(\"race\", \"race\")\n",
    "#compute_correlation_matrix(\"age\", \"age\")\n",
    "compute_correlation_matrix(\"field_cd\", \"field_cd\")\n",
    "#compute_correlation_matrix(\"age\", \"field_cd\")\n",
    "\n"
   ]
  },
  {
   "cell_type": "code",
   "execution_count": 14,
   "metadata": {
    "collapsed": false,
    "deletable": true,
    "editable": true
   },
   "outputs": [],
   "source": [
    "# Question 3\n",
    "# Good format seems to be (attribute, mean_score) -> http://bl.ocks.org/nbremer/6506614\n",
    "\n",
    "# Attentes des hommes\n",
    "class Radar:\n",
    "    def __init__(self, name):\n",
    "        self.__name__ = name\n",
    "        self.dic = {\"attractive\" : 0, \"sincerity\" : 0,\n",
    "                    \"intelligence\" : 0, \"fun\" : 0,\n",
    "                    \"ambitious\" : 0, \"same_interests\" : 0}\n",
    "        self.nb_persons  = 0\n",
    "        \n",
    "    def add_person(self, person, exp, time):\n",
    "        saved_dic = self.dic\n",
    "        try:\n",
    "            self.dic[\"attractive\"] += int(person[\"attr{}_{}\".format(exp, time)])\n",
    "            self.dic[\"sincerity\"] += int(person[\"sinc{}_{}\".format(exp, time)])\n",
    "            self.dic[\"intelligence\"] += int(person[\"intel{}_{}\".format(exp, time)])\n",
    "            self.dic[\"fun\"] += int(person[\"fun{}_{}\".format(exp, time)])\n",
    "            self.dic[\"ambitious\"] += int(person[\"amb{}_{}\".format(exp, time)])\n",
    "            self.dic[\"same_interests\"] += int(person[\"shar{}_{}\".format(exp, time)])\n",
    "            self.nb_persons  += 1 \n",
    "        except:    \n",
    "            self.dic = saved_dic\n",
    "    \n",
    "    def compute_mean(self):\n",
    "        self.dic = {k: v / self.nb_persons for k, v in self.dic.items()}\n",
    "        \n",
    "    def save(self):\n",
    "        self.compute_mean()\n",
    "        import json\n",
    "        with open(os.path.join(folder, \"{}.json\".format(self.__name__)),'w') as fp:\n",
    "            json.dump(self.dic, fp)\n",
    "\n",
    "\n",
    "male_expectation = Radar(\"male_expectation\")\n",
    "for index, row in data.iterrows():\n",
    "    if row.wave not in range(6, 10) and row.gender == 1:\n",
    "       male_expectation.add_person(row, 1, 1)\n",
    "male_expectation.save()\n",
    "\n",
    "female_expectation = Radar(\"female_expectation\")\n",
    "for index, row in data.iterrows():\n",
    "    if row.wave not in range(6, 10) and row.gender == 0:\n",
    "       female_expectation.add_person(row, 1, 1)\n",
    "female_expectation.save()\n",
    "\n",
    "male_experience = Radar(\"male_experience\")\n",
    "for index, row in data.iterrows():\n",
    "    if row.wave not in range(6, 10) and row.gender == 0 and row.match == 1:\n",
    "       male_experience.add_person(row, 1, 3)\n",
    "male_experience.save() \n",
    "\n",
    "female_experience = Radar(\"female_experience\")\n",
    "for index, row in data.iterrows():\n",
    "    if row.wave not in range(6, 10) and row.gender == 1 and row.match == 1:\n",
    "       female_experience.add_person(row, 1, 3)\n",
    "female_experience.save() \n",
    "\n",
    "male_own_opninon = Radar(\"male_own_opninon\")\n",
    "for index, row in data.iterrows():\n",
    "    if row.wave not in range(6, 10) and row.gender == 0:\n",
    "       male_own_opninon.add_person(row, 4, 3)\n",
    "male_own_opninon.save() \n",
    "\n",
    "female_own_opninon = Radar(\"female_own_opninon\")\n",
    "for index, row in data.iterrows():\n",
    "    if row.wave not in range(6, 10) and row.gender == 1:\n",
    "       female_own_opninon.add_person(row, 4, 3)\n",
    "female_own_opninon.save() "
   ]
  },
  {
   "cell_type": "code",
   "execution_count": 3,
   "metadata": {
    "collapsed": false,
    "deletable": true,
    "editable": true
   },
   "outputs": [
    {
     "data": {
      "text/plain": [
       "'/Users/Raphael/Documents/Poly/Maitrise_S3/Data_Viz/Projet'"
      ]
     },
     "execution_count": 3,
     "metadata": {},
     "output_type": "execute_result"
    }
   ],
   "source": [
    "# Question 4\n",
    "# TODO... faut qu'on se décide\n",
    "os.path.realpath('.')"
   ]
  },
  {
   "cell_type": "code",
   "execution_count": null,
   "metadata": {
    "collapsed": true,
    "deletable": true,
    "editable": true
   },
   "outputs": [],
   "source": []
  }
 ],
 "metadata": {
  "kernelspec": {
   "display_name": "Python 2",
   "language": "python",
   "name": "python2"
  },
  "language_info": {
   "codemirror_mode": {
    "name": "ipython",
    "version": 2
   },
   "file_extension": ".py",
   "mimetype": "text/x-python",
   "name": "python",
   "nbconvert_exporter": "python",
   "pygments_lexer": "ipython2",
   "version": "2.7.13"
  }
 },
 "nbformat": 4,
 "nbformat_minor": 2
}
