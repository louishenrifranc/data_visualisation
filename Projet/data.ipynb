{
 "cells": [
  {
   "cell_type": "code",
   "execution_count": 3,
   "metadata": {
    "collapsed": false,
    "deletable": true,
    "editable": true
   },
   "outputs": [
    {
     "name": "stdout",
     "output_type": "stream",
     "text": [
      "   iid   id  gender  idg  condtn  wave  round  position  positin1  order  \\\n",
      "0    1  1.0       0    1       1     1     10         7       NaN      4   \n",
      "1    1  1.0       0    1       1     1     10         7       NaN      3   \n",
      "2    1  1.0       0    1       1     1     10         7       NaN     10   \n",
      "3    1  1.0       0    1       1     1     10         7       NaN      5   \n",
      "4    1  1.0       0    1       1     1     10         7       NaN      7   \n",
      "\n",
      "    ...    attr3_3  sinc3_3  intel3_3  fun3_3  amb3_3  attr5_3  sinc5_3  \\\n",
      "0   ...        5.0      7.0       7.0     7.0     7.0      NaN      NaN   \n",
      "1   ...        5.0      7.0       7.0     7.0     7.0      NaN      NaN   \n",
      "2   ...        5.0      7.0       7.0     7.0     7.0      NaN      NaN   \n",
      "3   ...        5.0      7.0       7.0     7.0     7.0      NaN      NaN   \n",
      "4   ...        5.0      7.0       7.0     7.0     7.0      NaN      NaN   \n",
      "\n",
      "   intel5_3  fun5_3  amb5_3  \n",
      "0       NaN     NaN     NaN  \n",
      "1       NaN     NaN     NaN  \n",
      "2       NaN     NaN     NaN  \n",
      "3       NaN     NaN     NaN  \n",
      "4       NaN     NaN     NaN  \n",
      "\n",
      "[5 rows x 195 columns]\n"
     ]
    }
   ],
   "source": [
    "%matplotlib inline\n",
    "import matplotlib.pyplot as plt\n",
    "import numpy as np\n",
    "import pandas as pd\n",
    "import csv\n",
    "import math\n",
    "import os\n",
    "\n",
    "folder = \"data\"\n",
    "filename = \"data.csv\"\n",
    "path = os.path.join(folder, filename)\n",
    "\n",
    "data = pd.read_csv(path, encoding=\"latin1\")\n",
    "print(data.head())\n",
    "\n"
   ]
  },
  {
   "cell_type": "code",
   "execution_count": 5,
   "metadata": {
    "collapsed": false,
    "deletable": true,
    "editable": true
   },
   "outputs": [],
   "source": [
    "# Question 1\n",
    "file_corr_match = os.path.join(folder, \"corr_vs_matches.csv\")\n",
    "\n",
    "file_pairwise_corr_match = lambda att1, att2: os.path.join(folder, \"corr_{}_{}_matches.csv\".format(att1, att2))"
   ]
  },
  {
   "cell_type": "code",
   "execution_count": 6,
   "metadata": {
    "collapsed": true,
    "deletable": true,
    "editable": true
   },
   "outputs": [],
   "source": [
    "# Utils\n",
    "def isnan(values):\n",
    "    return np.isnan(values)\n",
    "\n",
    "def save_tensor(tensor, filename):\n",
    "    np.savetxt(filename, tensor, delimiter=\",\")"
   ]
  },
  {
   "cell_type": "code",
   "execution_count": 7,
   "metadata": {
    "collapsed": false,
    "deletable": true,
    "editable": true
   },
   "outputs": [
    {
     "name": "stdout",
     "output_type": "stream",
     "text": [
      "[0, 2, 0, 2, 12, 26, 38, 50, 84, 118, 128, 158, 132, 174, 140, 136, 96, 50, 4, 0]\n",
      "[0, 2, 2, 18, 68, 161, 280, 367, 562, 692, 826, 1067, 820, 1065, 804, 736, 470, 222, 56, 2]\n"
     ]
    },
    {
     "data": {
      "text/plain": [
       "[<matplotlib.lines.Line2D at 0x143090afd30>]"
      ]
     },
     "execution_count": 7,
     "metadata": {},
     "output_type": "execute_result"
    },
    {
     "data": {
      "image/png": "[encoded data removed]",
      "text/plain": [
       "<matplotlib.figure.Figure at 0x14308107128>"
      ]
     },
     "metadata": {},
     "output_type": "display_data"
    }
   ],
   "source": [
    "correlation_versus_matches = []\n",
    "bins = 20\n",
    "class_size = 2.0/bins\n",
    "nb_match_per_class = [0]*bins\n",
    "total_meeting_per_class = [0]*bins\n",
    "\n",
    "for index, row in data.iterrows():\n",
    "    if not isnan(row.int_corr):\n",
    "        if row.match != 0:\n",
    "            nb_match_per_class[int((row.int_corr+1)/class_size)] += 1\n",
    "        total_meeting_per_class[int((row.int_corr+1)/class_size)] += 1\n",
    "        \n",
    "for index, match_per_class in enumerate(nb_match_per_class):\n",
    "    \n",
    "    if(total_meeting_per_class[index])==0:\n",
    "        correlation_versus_matches.append(0)\n",
    "    else:\n",
    "        correlation_versus_matches.append(match_per_class/total_meeting_per_class[index])\n",
    "# removing an outlier\n",
    "correlation_versus_matches[1] = 0\n",
    "print(nb_match_per_class)\n",
    "print(total_meeting_per_class)\n",
    "\n",
    "#save_tensor(correlation_versus_matches, file_corr_match)\n",
    "#plt.hist(correlation_versus_matches,bins=bins,range=(-1.0,1.0))\n",
    "plt.plot(correlation_versus_matches)"
   ]
  },
  {
   "cell_type": "code",
   "execution_count": 9,
   "metadata": {
    "collapsed": false,
    "deletable": true,
    "editable": true
   },
   "outputs": [
    {
     "name": "stdout",
     "output_type": "stream",
     "text": [
      "{1.0: 21, 2.0: 178, 3.0: 28, 4.0: 43, 6.0: 36}\n",
      "{1.0: {1.0: 19.047619047619047, 2.0: 52.38095238095238, 3.0: 9.523809523809524, 4.0: 9.523809523809524, 6.0: 9.523809523809524}, 2.0: {1.0: 5.617977528089888, 2.0: 66.29213483146067, 3.0: 5.056179775280899, 4.0: 14.044943820224718, 6.0: 8.98876404494382}, 3.0: {1.0: 7.142857142857143, 2.0: 53.57142857142857, 3.0: 7.142857142857143, 4.0: 14.285714285714286, 6.0: 17.857142857142858}, 4.0: {1.0: 4.651162790697675, 2.0: 58.13953488372093, 3.0: 4.651162790697675, 4.0: 18.6046511627907, 6.0: 13.953488372093023}, 6.0: {1.0: 5.555555555555555, 2.0: 58.333333333333336, 3.0: 13.88888888888889, 4.0: 16.666666666666668, 6.0: 5.555555555555555}}\n",
      "{32.0: 3, 34.0: 5, 35.0: 2, 39.0: 2, 19.0: 4, 20.0: 10, 21.0: 35, 22.0: 35, 23.0: 29, 24.0: 23, 25.0: 51, 26.0: 25, 27.0: 20, 28.0: 36, 29.0: 18, 30.0: 5}\n",
      "{32.0: {24.0: 33.333333333333336, 25.0: 33.333333333333336, 27.0: 33.333333333333336}, 34.0: {25.0: 40.0, 28.0: 40.0, 21.0: 20.0}, 35.0: {28.0: 50.0, 21.0: 50.0}, 39.0: {29.0: 50.0, 22.0: 50.0}, 19.0: {20.0: 25.0, 21.0: 50.0, 22.0: 25.0}, 20.0: {20.0: 10.0, 21.0: 50.0, 22.0: 40.0}, 21.0: {34.0: 2.857142857142857, 35.0: 2.857142857142857, 21.0: 17.142857142857142, 22.0: 22.857142857142858, 23.0: 11.428571428571429, 24.0: 8.571428571428571, 25.0: 8.571428571428571, 26.0: 5.714285714285714, 27.0: 2.857142857142857, 28.0: 11.428571428571429, 29.0: 2.857142857142857, 30.0: 2.857142857142857}, 22.0: {30.0: 2.857142857142857, 20.0: 5.714285714285714, 21.0: 14.285714285714286, 23.0: 5.714285714285714, 24.0: 11.428571428571429, 25.0: 17.142857142857142, 26.0: 14.285714285714286, 27.0: 5.714285714285714, 28.0: 14.285714285714286, 29.0: 5.714285714285714, 39.0: 2.857142857142857}, 23.0: {21.0: 13.793103448275861, 22.0: 6.896551724137931, 23.0: 27.586206896551722, 24.0: 6.896551724137931, 25.0: 17.24137931034483, 26.0: 10.344827586206897, 27.0: 3.4482758620689653, 28.0: 13.793103448275861}, 24.0: {32.0: 4.3478260869565215, 21.0: 13.043478260869565, 22.0: 17.391304347826086, 23.0: 8.695652173913043, 25.0: 13.043478260869565, 26.0: 8.695652173913043, 27.0: 17.391304347826086, 28.0: 13.043478260869565, 30.0: 4.3478260869565215}, 25.0: {32.0: 1.9607843137254901, 34.0: 3.9215686274509802, 21.0: 5.882352941176471, 22.0: 11.764705882352942, 23.0: 9.803921568627452, 24.0: 5.882352941176471, 25.0: 23.529411764705884, 26.0: 9.803921568627452, 27.0: 7.8431372549019605, 28.0: 13.72549019607843, 29.0: 5.882352941176471}, 26.0: {21.0: 8.0, 22.0: 20.0, 23.0: 12.0, 24.0: 8.0, 25.0: 20.0, 26.0: 8.0, 27.0: 4.0, 28.0: 12.0, 29.0: 4.0, 30.0: 4.0}, 27.0: {32.0: 5.0, 21.0: 5.0, 22.0: 10.0, 23.0: 5.0, 24.0: 20.0, 25.0: 20.0, 26.0: 5.0, 27.0: 10.0, 28.0: 15.0, 29.0: 5.0}, 28.0: {34.0: 5.555555555555555, 35.0: 2.7777777777777777, 21.0: 11.11111111111111, 22.0: 13.88888888888889, 23.0: 11.11111111111111, 24.0: 8.333333333333334, 25.0: 19.444444444444443, 26.0: 8.333333333333334, 27.0: 8.333333333333334, 28.0: 5.555555555555555, 29.0: 5.555555555555555}, 29.0: {21.0: 5.555555555555555, 22.0: 11.11111111111111, 39.0: 5.555555555555555, 25.0: 16.666666666666668, 26.0: 5.555555555555555, 27.0: 5.555555555555555, 28.0: 11.11111111111111, 29.0: 33.333333333333336, 30.0: 5.555555555555555}, 30.0: {24.0: 20.0, 26.0: 20.0, 21.0: 20.0, 22.0: 20.0, 29.0: 20.0}}\n",
      "{1.0: 89, 2.0: 7, 3.0: 30, 4.0: 1, 5.0: 12, 6.0: 12, 7.0: 13, 8.0: 51, 9.0: 14, 10.0: 17, 11.0: 20, 12.0: 1, 13.0: 22, 14.0: 12, 16.0: 5}\n",
      "{1.0: {1.0: 40.449438202247194, 2.0: 2.247191011235955, 3.0: 4.49438202247191, 5.0: 1.1235955056179776, 6.0: 3.3707865168539324, 7.0: 3.3707865168539324, 8.0: 15.730337078651685, 9.0: 4.49438202247191, 10.0: 3.3707865168539324, 11.0: 6.741573033707865, 12.0: 1.1235955056179776, 13.0: 11.235955056179776, 14.0: 2.247191011235955}, 2.0: {8.0: 57.142857142857146, 1.0: 28.571428571428573, 4.0: 14.285714285714286}, 3.0: {1.0: 13.333333333333334, 3.0: 13.333333333333334, 4.0: 6.666666666666667, 5.0: 16.666666666666668, 7.0: 6.666666666666667, 8.0: 23.333333333333332, 9.0: 3.3333333333333335, 10.0: 6.666666666666667, 11.0: 3.3333333333333335, 14.0: 6.666666666666667}, 4.0: {2.0: 100.0}, 5.0: {1.0: 8.333333333333334, 3.0: 8.333333333333334, 5.0: 16.666666666666668, 6.0: 8.333333333333334, 7.0: 8.333333333333334, 8.0: 16.666666666666668, 10.0: 33.333333333333336}, 6.0: {1.0: 25.0, 4.0: 8.333333333333334, 5.0: 25.0, 7.0: 8.333333333333334, 8.0: 8.333333333333334, 10.0: 8.333333333333334, 14.0: 16.666666666666668}, 7.0: {1.0: 23.076923076923077, 3.0: 7.6923076923076925, 5.0: 7.6923076923076925, 6.0: 7.6923076923076925, 8.0: 7.6923076923076925, 9.0: 15.384615384615385, 11.0: 30.76923076923077}, 8.0: {1.0: 27.45098039215686, 2.0: 7.8431372549019605, 3.0: 11.764705882352942, 4.0: 3.9215686274509802, 5.0: 7.8431372549019605, 6.0: 1.9607843137254901, 7.0: 3.9215686274509802, 8.0: 7.8431372549019605, 9.0: 3.9215686274509802, 10.0: 1.9607843137254901, 11.0: 7.8431372549019605, 13.0: 13.72549019607843}, 9.0: {1.0: 28.571428571428573, 3.0: 7.142857142857143, 7.0: 14.285714285714286, 8.0: 14.285714285714286, 10.0: 7.142857142857143, 11.0: 7.142857142857143, 14.0: 21.428571428571427}, 10.0: {1.0: 17.647058823529413, 3.0: 11.764705882352942, 5.0: 23.529411764705884, 6.0: 5.882352941176471, 8.0: 5.882352941176471, 9.0: 5.882352941176471, 10.0: 11.764705882352942, 11.0: 5.882352941176471, 14.0: 11.764705882352942}, 11.0: {1.0: 30.0, 3.0: 5.0, 7.0: 20.0, 8.0: 20.0, 9.0: 5.0, 10.0: 5.0, 11.0: 10.0, 14.0: 5.0}, 12.0: {1.0: 100.0}, 13.0: {8.0: 36.36363636363637, 1.0: 45.45454545454545, 4.0: 4.545454545454546, 13.0: 9.090909090909092, 5.0: 4.545454545454546}, 14.0: {1.0: 16.666666666666668, 3.0: 16.666666666666668, 6.0: 16.666666666666668, 9.0: 25.0, 10.0: 16.666666666666668, 11.0: 8.333333333333334}, 16.0: {8.0: 20.0, 4.0: 20.0, 5.0: 60.0}}\n"
     ]
    }
   ],
   "source": [
    "# Good format seems to be (attr_0, attr_1, value) -> http://bl.ocks.org/tjdecke/5558084\n",
    "\n",
    "def compute_correlation_matrix(n_attr1, n_attr2):\n",
    "    symmetric = (n_attr1 == n_attr2)\n",
    "    total_attr1 = dict()\n",
    "    corr_m = dict()\n",
    "    \n",
    "    for index, row in data.iterrows():\n",
    "        if isnan(row.pid):\n",
    "            break\n",
    "        if row.match != 0: \n",
    "            person_1 = row\n",
    "            person_2 = data.query(\"iid == \" + str(row.pid)).iloc[0]\n",
    "            if not (isnan(person_1[n_attr1]) or isnan(person_2[n_attr2])):\n",
    "                def append_to_dic(att_1, att_2):               \n",
    "                    person_1_attr_1 = person_1[att_1]                \n",
    "                    person_2_attr_2 = person_2[att_2]\n",
    "\n",
    "                    if person_1_attr_1 not in corr_m:\n",
    "                        corr_m[person_1_attr_1] = {}\n",
    "                    try:\n",
    "                        corr_m[person_1_attr_1][person_2_attr_2] += 1\n",
    "                    except:\n",
    "                        corr_m[person_1_attr_1][person_2_attr_2] = 1\n",
    "                    \n",
    "                    if person_1_attr_1 not in total_attr1:\n",
    "                        total_attr1[person_1_attr_1] = 0\n",
    "                    total_attr1[person_1_attr_1] += 1\n",
    "\n",
    "                append_to_dic(n_attr1, n_attr2)\n",
    "        #    append_to_dic(n_attr2, n_attr1)\n",
    "    for idx, att1 in enumerate(corr_m.keys()):\n",
    "        for att2 in corr_m[att1]:\n",
    "            corr_m[att1][att2] = corr_m[att1][att2]*100/total_attr1[att1]\n",
    "    print(total_attr1)\n",
    "    print(corr_m)\n",
    "    save_tensor([(att1, att2, val) for att1 in corr_m.keys() for att2, val in corr_m[att1].items()], \n",
    "                file_pairwise_corr_match(n_attr1, n_attr2))\n",
    "                \n",
    "compute_correlation_matrix(\"race\", \"race\")\n",
    "compute_correlation_matrix(\"age\", \"age\")\n",
    "compute_correlation_matrix(\"field_cd\", \"field_cd\")\n",
    "#compute_correlation_matrix(\"age\", \"field_cd\")\n",
    "\n"
   ]
  },
  {
   "cell_type": "code",
   "execution_count": 14,
   "metadata": {
    "collapsed": false,
    "deletable": true,
    "editable": true
   },
   "outputs": [],
   "source": [
    "# Question 3\n",
    "# Good format seems to be (attribute, mean_score) -> http://bl.ocks.org/nbremer/6506614\n",
    "\n",
    "# Attentes des hommes\n",
    "class Radar:\n",
    "    def __init__(self, name):\n",
    "        self.__name__ = name\n",
    "        self.dic = {\"attractive\" : 0, \"sincerity\" : 0,\n",
    "                    \"intelligence\" : 0, \"fun\" : 0,\n",
    "                    \"ambitious\" : 0, \"same_interests\" : 0}\n",
    "        self.nb_persons  = 0\n",
    "        \n",
    "    def add_person(self, person, exp, time):\n",
    "        saved_dic = self.dic\n",
    "        try:\n",
    "            self.dic[\"attractive\"] += int(person[\"attr{}_{}\".format(exp, time)])\n",
    "            self.dic[\"sincerity\"] += int(person[\"sinc{}_{}\".format(exp, time)])\n",
    "            self.dic[\"intelligence\"] += int(person[\"intel{}_{}\".format(exp, time)])\n",
    "            self.dic[\"fun\"] += int(person[\"fun{}_{}\".format(exp, time)])\n",
    "            self.dic[\"ambitious\"] += int(person[\"amb{}_{}\".format(exp, time)])\n",
    "            self.dic[\"same_interests\"] += int(person[\"shar{}_{}\".format(exp, time)])\n",
    "            self.nb_persons  += 1 \n",
    "        except:    \n",
    "            self.dic = saved_dic\n",
    "    \n",
    "    def compute_mean(self):\n",
    "        self.dic = {k: v / self.nb_persons for k, v in self.dic.items()}\n",
    "        \n",
    "    def save(self):\n",
    "        self.compute_mean()\n",
    "        import json\n",
    "        with open(os.path.join(folder, \"{}.json\".format(self.__name__)),'w') as fp:\n",
    "            json.dump(self.dic, fp)\n",
    "\n",
    "\n",
    "male_expectation = Radar(\"male_expectation\")\n",
    "for index, row in data.iterrows():\n",
    "    if row.wave not in range(6, 10) and row.gender == 1:\n",
    "       male_expectation.add_person(row, 1, 1)\n",
    "male_expectation.save()\n",
    "\n",
    "female_expectation = Radar(\"female_expectation\")\n",
    "for index, row in data.iterrows():\n",
    "    if row.wave not in range(6, 10) and row.gender == 0:\n",
    "       female_expectation.add_person(row, 1, 1)\n",
    "female_expectation.save()\n",
    "\n",
    "male_experience = Radar(\"male_experience\")\n",
    "for index, row in data.iterrows():\n",
    "    if row.wave not in range(6, 10) and row.gender == 0 and row.match == 1:\n",
    "       male_experience.add_person(row, 1, 3)\n",
    "male_experience.save() \n",
    "\n",
    "female_experience = Radar(\"female_experience\")\n",
    "for index, row in data.iterrows():\n",
    "    if row.wave not in range(6, 10) and row.gender == 1 and row.match == 1:\n",
    "       female_experience.add_person(row, 1, 3)\n",
    "female_experience.save() \n",
    "\n",
    "male_own_opninon = Radar(\"male_own_opninon\")\n",
    "for index, row in data.iterrows():\n",
    "    if row.wave not in range(6, 10) and row.gender == 0:\n",
    "       male_own_opninon.add_person(row, 4, 3)\n",
    "male_own_opninon.save() \n",
    "\n",
    "female_own_opninon = Radar(\"female_own_opninon\")\n",
    "for index, row in data.iterrows():\n",
    "    if row.wave not in range(6, 10) and row.gender == 1:\n",
    "       female_own_opninon.add_person(row, 4, 3)\n",
    "female_own_opninon.save() "
   ]
  },
  {
   "cell_type": "code",
   "execution_count": 3,
   "metadata": {
    "collapsed": false,
    "deletable": true,
    "editable": true
   },
   "outputs": [
    {
     "data": {
      "text/plain": [
       "'/Users/Raphael/Documents/Poly/Maitrise_S3/Data_Viz/Projet'"
      ]
     },
     "execution_count": 3,
     "metadata": {},
     "output_type": "execute_result"
    }
   ],
   "source": [
    "# Question 4\n",
    "# TODO... faut qu'on se décide\n",
    "os.path.realpath('.')"
   ]
  },
  {
   "cell_type": "code",
   "execution_count": null,
   "metadata": {
    "collapsed": true,
    "deletable": true,
    "editable": true
   },
   "outputs": [],
   "source": []
  }
 ],
 "metadata": {
  "kernelspec": {
   "display_name": "Python 3",
   "language": "python",
   "name": "python3"
  },
  "language_info": {
   "codemirror_mode": {
    "name": "ipython",
    "version": 3
   },
   "file_extension": ".py",
   "mimetype": "text/x-python",
   "name": "python",
   "nbconvert_exporter": "python",
   "pygments_lexer": "ipython3",
   "version": "3.5.0"
  }
 },
 "nbformat": 4,
 "nbformat_minor": 2
}
